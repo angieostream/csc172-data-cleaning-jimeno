{
 "cells": [
  {
   "cell_type": "markdown",
   "id": "d16bbf92",
   "metadata": {},
   "source": [
    "Data Cleaning Notebook"
   ]
  },
  {
   "cell_type": "code",
   "execution_count": null,
   "id": "20cf36b7",
   "metadata": {},
   "outputs": [],
   "source": [
    "import pandas as pd\n",
    "import numpy as np\n",
    "\n",
    "# Display full tables\n",
    "pd.set_option('display.max_rows', None)\n",
    "pd.set_option('display.max_columns', None)\n",
    "pd.set_option('display.width', None)\n",
    "pd.set_option('display.max_colwidth', None)"
   ]
  },
  {
   "cell_type": "code",
   "execution_count": null,
   "id": "f123e40c",
   "metadata": {},
   "outputs": [],
   "source": [
    "df = pd.read_csv(\"../data/raw_dataset.csv\")\n",
    "\n",
    "before_shape = df.shape\n",
    "print(\"Initial shape:\", before_shape)\n",
    "df.head()"
   ]
  },
  {
   "cell_type": "code",
   "execution_count": null,
   "id": "acfd4a04",
   "metadata": {},
   "outputs": [],
   "source": [
    "print(\"DataFrame Info:\")\n",
    "df.info()"
   ]
  },
  {
   "cell_type": "code",
   "execution_count": null,
   "id": "1254993e",
   "metadata": {},
   "outputs": [],
   "source": [
    "print(\"Missing values per column (full list):\")\n",
    "for col in df.columns:\n",
    "    missing_count = df[col].isnull().sum()\n",
    "    missing_pct = (missing_count / df.shape[0] * 100).round(2)\n",
    "    print(f\"{col}: {missing_count} missing ({missing_pct}%)\")"
   ]
  },
  {
   "cell_type": "code",
   "execution_count": null,
   "id": "db5d6bbc",
   "metadata": {},
   "outputs": [],
   "source": [
    "duplicates = df.duplicated().sum()\n",
    "print(\"Duplicate rows count:\", duplicates)"
   ]
  },
  {
   "cell_type": "code",
   "execution_count": null,
   "id": "944a9954",
   "metadata": {},
   "outputs": [],
   "source": [
    "print(\"Summary statistics (numeric + object):\")\n",
    "display(df.describe(include='all'))"
   ]
  },
  {
   "cell_type": "code",
   "execution_count": null,
   "id": "f0f011ab",
   "metadata": {},
   "outputs": [],
   "source": [
    "df.replace(['?', ''], np.nan, inplace=True)\n",
    "print(\"Normalized '?' and empty strings to NaN (if present).\")"
   ]
  },
  {
   "cell_type": "code",
   "execution_count": null,
   "id": "6417330f",
   "metadata": {},
   "outputs": [],
   "source": [
    "# Fill numeric columns\n",
    "if 'Age' in df.columns:\n",
    "    df['Age'] = df['Age'].fillna(df['Age'].median())\n",
    "\n",
    "# Fill categorical columns\n",
    "if 'Embarked' in df.columns:\n",
    "    mode_value = df['Embarked'].mode()[0]\n",
    "    df['Embarked'] = df['Embarked'].fillna(mode_value)\n",
    "\n",
    "# Drop columns with >50% missing values\n",
    "if 'Cabin' in df.columns and df['Cabin'].isnull().mean() > 0.5:\n",
    "    df = df.drop(columns=['Cabin'])\n",
    "    print(\"Dropped 'Cabin' column (too many missing values).\")\n",
    "\n",
    "print(\"Remaining missing values per column:\")\n",
    "for col in df.columns:\n",
    "    print(f\"{col}: {df[col].isnull().sum()} missing\")"
   ]
  },
  {
   "cell_type": "code",
   "execution_count": null,
   "id": "3acba43f",
   "metadata": {},
   "outputs": [],
   "source": [
    "pre_rows = df.shape[0]\n",
    "df = df.drop_duplicates()\n",
    "print(\"Duplicates removed:\", pre_rows - df.shape[0])\n",
    "\n",
    "# Strip whitespace and normalize strings\n",
    "for c in df.select_dtypes(include=['object']).columns:\n",
    "    df[c] = df[c].astype(str).str.strip()\n",
    "\n",
    "if 'Sex' in df.columns:\n",
    "    df['Sex'] = df['Sex'].str.lower()\n",
    "if 'Embarked' in df.columns:\n",
    "    df['Embarked'] = df['Embarked'].str.upper()"
   ]
  },
  {
   "cell_type": "code",
   "execution_count": null,
   "id": "9263ff92",
   "metadata": {},
   "outputs": [],
   "source": [
    "num_cols = df.select_dtypes(include=[np.number]).columns.tolist()\n",
    "\n",
    "for col in num_cols:\n",
    "    Q1 = df[col].quantile(0.25)\n",
    "    Q3 = df[col].quantile(0.75)\n",
    "    IQR = Q3 - Q1\n",
    "    lower = Q1 - 1.5 * IQR\n",
    "    upper = Q3 + 1.5 * IQR\n",
    "    df[col] = df[col].clip(lower=lower, upper=upper)\n",
    "\n",
    "print(\"Applied IQR clipping to numeric columns.\")"
   ]
  },
  {
   "cell_type": "code",
   "execution_count": null,
   "id": "cc7a90ec",
   "metadata": {},
   "outputs": [],
   "source": [
    "print(\"Rows before cleaning:\", before_shape[0])\n",
    "print(\"Rows after cleaning:\", df.shape[0])\n",
    "\n",
    "df.to_csv(\"../data/cleaned_dataset.csv\", index=False)\n",
    "print(\"Saved cleaned dataset to ../data/cleaned_dataset.csv\")"
   ]
  }
 ],
 "metadata": {
  "kernelspec": {
   "display_name": "venv",
   "language": "python",
   "name": "python3"
  },
  "language_info": {
   "codemirror_mode": {
    "name": "ipython",
    "version": 3
   },
   "file_extension": ".py",
   "mimetype": "text/x-python",
   "name": "python",
   "nbconvert_exporter": "python",
   "pygments_lexer": "ipython3",
   "version": "3.12.4"
  }
 },
 "nbformat": 4,
 "nbformat_minor": 5
}
